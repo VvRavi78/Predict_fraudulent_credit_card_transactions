
# Import the necessary libraries for the project

import pandas as pd    # data processing, CSV file I/O (e.g. pd.read_csv)
import numpy as np     # linear algebra
import matplotlib
import matplotlib.pyplot as plt
import seaborn as sns
import warnings 
warnings.filterwarnings("ignore")
